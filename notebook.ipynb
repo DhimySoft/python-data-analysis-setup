{
 "cells": [
  {
   "cell_type": "code",
   "execution_count": 1,
   "id": "5baab5e8",
   "metadata": {},
   "outputs": [
    {
     "name": "stdout",
     "output_type": "stream",
     "text": [
      "Hello from Jupyter in VS Code!\n"
     ]
    }
   ],
   "source": [
    "print(\"Hello from Jupyter in VS Code!\")\n"
   ]
  },
  {
   "cell_type": "code",
   "execution_count": 2,
   "id": "e87e0f70",
   "metadata": {},
   "outputs": [
    {
     "name": "stdout",
     "output_type": "stream",
     "text": [
      "Hello from Jupyter in VS Code!\n"
     ]
    }
   ],
   "source": [
    "print(\"Hello from Jupyter in VS Code!\")\n"
   ]
  },
  {
   "cell_type": "code",
   "execution_count": 3,
   "id": "32a8ea0b",
   "metadata": {},
   "outputs": [
    {
     "name": "stdout",
     "output_type": "stream",
     "text": [
      "Hello from Jupyter in VS Code!\n"
     ]
    }
   ],
   "source": [
    "print(\"Hello from Jupyter in VS Code!\")\n"
   ]
  }
 ],
 "metadata": {
  "kernelspec": {
   "display_name": ".venv",
   "language": "python",
   "name": "python3"
  },
  "language_info": {
   "codemirror_mode": {
    "name": "ipython",
    "version": 3
   },
   "file_extension": ".py",
   "mimetype": "text/x-python",
   "name": "python",
   "nbconvert_exporter": "python",
   "pygments_lexer": "ipython3",
   "version": "3.13.5"
  }
 },
 "nbformat": 4,
 "nbformat_minor": 5
}
